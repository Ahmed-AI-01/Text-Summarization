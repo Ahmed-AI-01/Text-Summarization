{
 "cells": [
  {
   "cell_type": "markdown",
   "metadata": {},
   "source": [
    "## Import Libs"
   ]
  },
  {
   "cell_type": "code",
   "execution_count": 1,
   "metadata": {},
   "outputs": [
    {
     "name": "stderr",
     "output_type": "stream",
     "text": [
      "[nltk_data] Downloading package punkt to\n",
      "[nltk_data]     C:\\Users\\PrideGod\\AppData\\Roaming\\nltk_data...\n",
      "[nltk_data]   Package punkt is already up-to-date!\n"
     ]
    }
   ],
   "source": [
    "from nltk.tokenize import sent_tokenize\n",
    "import nltk\n",
    "import pandas as pd\n",
    "from sklearn.feature_extraction.text import TfidfVectorizer\n",
    "import numpy as np\n",
    "from nltk.corpus import stopwords\n",
    "import re\n",
    "\n",
    "nltk.download('punkt')\n",
    "\n",
    "\n",
    "df = pd.read_csv(r\"Z:\\Projects\\NLP\\ Txt_Summarization\\cnn_dailymail\\train.csv\")\n"
   ]
  },
  {
   "cell_type": "code",
   "execution_count": 7,
   "metadata": {},
   "outputs": [
    {
     "name": "stdout",
     "output_type": "stream",
     "text": [
      "0         Bishop John Folda, of North Dakota, is taking ...\n",
      "1         Criminal complaint: Cop used his role to help ...\n",
      "2         Craig Eccleston-Todd, 27, had drunk at least t...\n",
      "3         Nina dos Santos says Europe must be ready to a...\n",
      "4         Fleetwood top of League One after 2-0 win at S...\n",
      "                                ...                        \n",
      "287108    Chelsea Clinton said question of running for o...\n",
      "287109    Vanilla Ice, 47 - real name Robert Van Winkle ...\n",
      "287110    America's most lethal sniper made comment in i...\n",
      "287111    A swarm of more than one million has crossed b...\n",
      "287112    Other 2016 hopefuls maintain that Bush's annou...\n",
      "Name: highlights, Length: 287113, dtype: object\n"
     ]
    }
   ],
   "source": [
    "df.head(5)\n",
    "print(df['highlights'])"
   ]
  },
  {
   "cell_type": "markdown",
   "metadata": {},
   "source": [
    "## Data Preprocessing"
   ]
  },
  {
   "cell_type": "code",
   "execution_count": 32,
   "metadata": {},
   "outputs": [
    {
     "name": "stderr",
     "output_type": "stream",
     "text": [
      "[nltk_data] Downloading package stopwords to\n",
      "[nltk_data]     C:\\Users\\PrideGod\\AppData\\Roaming\\nltk_data...\n",
      "[nltk_data]   Package stopwords is already up-to-date!\n"
     ]
    }
   ],
   "source": [
    "nltk.download('stopwords')\n",
    "stop_words = set(stopwords.words('english'))\n",
    "\n",
    "\n",
    "def preprocess(text):\n",
    "    \n",
    "    text = re.sub(r'[^a-zA-Z\\s]', '', text, re.I|re.A)\n",
    "    text = text.lower()\n",
    "    \n",
    "    \n",
    "    tokens = [word for word in text.split() if word not in stop_words]\n",
    "    return ' '.join(tokens)\n",
    "\n",
    "\n",
    "df['clean_text'] = df['article'].apply(preprocess)\n"
   ]
  },
  {
   "cell_type": "markdown",
   "metadata": {},
   "source": [
    "## Summarize"
   ]
  },
  {
   "cell_type": "code",
   "execution_count": 3,
   "metadata": {},
   "outputs": [
    {
     "name": "stdout",
     "output_type": "stream",
     "text": [
      "0         The bishop of the Fargo Catholic Diocese in No...\n",
      "1         Court documents released by investigators do n...\n",
      "2         ‘Mr Eccleston-Todd took the decision to pick u...\n",
      "3         And such a strategy might also turn out to hav...\n",
      "4         Bristol City, who beat Nigel Clough’s men on t...\n",
      "                                ...                        \n",
      "287108    'If at some point that weren't the case, and I...\n",
      "287109    The rapper turned renovation show reality star...\n",
      "287110    Oscar-tipped: Clint Eastwood's (left) movie is...\n",
      "287111    'Some insects, especially in the larval stage,...\n",
      "287112    That moderation on immigration reform — and hi...\n",
      "Name: summary, Length: 287113, dtype: object\n"
     ]
    }
   ],
   "source": [
    "def summarize(text):\n",
    "    sentences = sent_tokenize(text)\n",
    "    \n",
    "    tfidf = TfidfVectorizer()\n",
    "    tfidf_matrix = tfidf.fit_transform(sentences)\n",
    "    \n",
    "    sentence_scores = np.array(tfidf_matrix.mean(axis=1)).flatten()  \n",
    "    \n",
    "    \n",
    "    top_n = 3  \n",
    "    top_sentences_idx = np.argsort(sentence_scores)[::-1][:top_n]\n",
    "    \n",
    "    \n",
    "    summary = [sentences[i] for i in top_sentences_idx]\n",
    "    return ' '.join(summary)\n",
    "\n",
    "\n",
    "df['summary'] = df['article'].apply(summarize)\n",
    "\n",
    "print(df['summary'])"
   ]
  },
  {
   "cell_type": "code",
   "execution_count": 4,
   "metadata": {},
   "outputs": [
    {
     "name": "stdout",
     "output_type": "stream",
     "text": [
      "                                             article  \\\n",
      "0  By . Associated Press . PUBLISHED: . 14:11 EST...   \n",
      "1  (CNN) -- Ralph Mata was an internal affairs li...   \n",
      "2  A drunk driver who killed a young woman in a h...   \n",
      "3  (CNN) -- With a breezy sweep of his pen Presid...   \n",
      "4  Fleetwood are the only team still to have a 10...   \n",
      "\n",
      "                                             summary  \n",
      "0  The bishop of the Fargo Catholic Diocese in No...  \n",
      "1  Court documents released by investigators do n...  \n",
      "2  ‘Mr Eccleston-Todd took the decision to pick u...  \n",
      "3  And such a strategy might also turn out to hav...  \n",
      "4  Bristol City, who beat Nigel Clough’s men on t...  \n"
     ]
    }
   ],
   "source": [
    "print(df[['article', 'summary']].head())"
   ]
  },
  {
   "cell_type": "code",
   "execution_count": 5,
   "metadata": {},
   "outputs": [],
   "source": [
    "df[['article', 'summary']].head().to_csv('summary.csv', index=False)"
   ]
  }
 ],
 "metadata": {
  "kernelspec": {
   "display_name": "gpupy10",
   "language": "python",
   "name": "python3"
  },
  "language_info": {
   "codemirror_mode": {
    "name": "ipython",
    "version": 3
   },
   "file_extension": ".py",
   "mimetype": "text/x-python",
   "name": "python",
   "nbconvert_exporter": "python",
   "pygments_lexer": "ipython3",
   "version": "3.10.14"
  }
 },
 "nbformat": 4,
 "nbformat_minor": 2
}
